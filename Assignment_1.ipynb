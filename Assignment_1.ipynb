{
 "cells": [
  {
   "cell_type": "markdown",
   "id": "135191ae",
   "metadata": {},
   "source": [
    "# Assignment 1.\n",
    "You have a database from a study, that needs some cleaning up. Your task is to write a Python script which would:\n",
    "\n",
    "* load the database from a file `database.json`\n",
    "* verify the age of participants. The inclusion criteria to the study assume that participants are between 18 and 70 years of age. If the user is too young or too old, he/she should be removed from the database\n",
    "* verify completeness of data. Every participant should have `scores` from three measurements. In case there is not enough data the participant should be removed from the database \n",
    "* verify the code of a participant. The code should follow the pattern: 2 upper letters - 8 alphanumeric characters (lowercase), e.g. AB-ab012k3y (use RegEx!). If the code does not match the pattern, a new random code should be generated for this participant\n",
    "* save the verified and cleaned database to a new JSON file\n",
    "* create a dictionary of grouped participants based on their favourite color; use `groupby` form `itertools`; the values of a dictionary should include only participants' codes. Do not save it to a file. Just display its content.\n"
   ]
  },
  {
   "cell_type": "markdown",
   "id": "8889f8f3",
   "metadata": {
    "pycharm": {
     "name": "#%% md\n"
    }
   },
   "source": [
    "## Setting up the environment"
   ]
  },
  {
   "cell_type": "code",
   "execution_count": 165,
   "outputs": [],
   "source": [
    "import json\n",
    "import datetime\n",
    "import re\n",
    "from itertools import groupby\n",
    "\n",
    "path = \"database.json\"\n",
    "date = datetime.date.today()"
   ],
   "metadata": {
    "collapsed": false,
    "pycharm": {
     "name": "#%%\n"
    }
   }
  },
  {
   "cell_type": "markdown",
   "source": [
    "## Loading the data"
   ],
   "metadata": {
    "collapsed": false,
    "pycharm": {
     "name": "#%% md\n"
    }
   }
  },
  {
   "cell_type": "code",
   "execution_count": 166,
   "outputs": [
    {
     "data": {
      "text/plain": "[{'code': 'BP-2t1e9j5b',\n  'gender': 'Polygender',\n  'date_birth': '1989-02-01',\n  'profession': 'Environmental Tech',\n  'fav_color': 'Red',\n  'scores': [1.54, 3.49, 4.9]},\n {'code': 'GJ-9y9h9w8l',\n  'gender': 'Female',\n  'date_birth': '1959-05-02',\n  'profession': 'Quality Control Specialist',\n  'fav_color': 'Blue',\n  'scores': [3.21, 0.28, 0.92]},\n {'code': 'HF-4y5k6a8a',\n  'gender': 'Male',\n  'date_birth': '1961-01-22',\n  'profession': 'Quality Control Specialist',\n  'fav_color': 'Red',\n  'scores': [3.96, 0.67, 2.11]},\n {'code': 'AP-1d6u3j6b',\n  'gender': 'Male',\n  'date_birth': '1996-09-27',\n  'profession': 'Environmental Tech',\n  'fav_color': 'White',\n  'scores': [3.41, 4.05]},\n {'code': 'WU-1e3d7w7j',\n  'gender': 'Female',\n  'date_birth': '2002-10-28',\n  'profession': 'Marketing Manager',\n  'fav_color': 'Blue',\n  'scores': [3.02, 4.54, 4.77]},\n {'code': 'DM-6g3w0e4z',\n  'gender': 'Male',\n  'date_birth': '1974-05-11',\n  'profession': 'Staff Scientist',\n  'fav_color': 'Blue',\n  'scores': [3.31, 1.32, 2.72]},\n {'code': 'ZM-4y2x2u7k',\n  'gender': 'Female',\n  'date_birth': '1985-10-19',\n  'profession': 'Legal Assistant',\n  'fav_color': 'Blue',\n  'scores': [0.21, 1.57]},\n {'code': 'DT-9i2x6z1p',\n  'gender': 'Female',\n  'date_birth': '1985-12-25',\n  'profession': 'Quality Engineer',\n  'fav_color': 'White',\n  'scores': [3.18]},\n {'code': 'GE-1l4f5j7h',\n  'gender': 'Male',\n  'date_birth': '1977-05-11',\n  'profession': 'Senior Financial Analyst',\n  'fav_color': 'Red',\n  'scores': [0.68, 3.97, 3.85]},\n {'code': 'za2u3m2f8g',\n  'gender': 'Male',\n  'date_birth': '1984-07-23',\n  'profession': 'Sales Associate',\n  'fav_color': 'White',\n  'scores': [0.4, 2.47, 0.19]},\n {'code': 'BU-4x8n2b1t',\n  'gender': 'Genderfluid',\n  'date_birth': '1969-04-13',\n  'profession': 'General Manager',\n  'fav_color': 'White',\n  'scores': [1.57, 4.54, 2.14]},\n {'code': 'HI-5o9v8s6x',\n  'gender': 'Female',\n  'date_birth': '1950-06-19',\n  'profession': 'Geologist I',\n  'fav_color': 'Red',\n  'scores': [2.77, 3.22, 2.91]},\n {'code': 'NF-3w7c5n3x',\n  'gender': 'Male',\n  'date_birth': '1975-03-08',\n  'profession': 'Account Executive',\n  'fav_color': 'Blue',\n  'scores': [0.91, 1.23, 3.09]},\n {'code': 'TR-9z3v5h8a',\n  'gender': 'Male',\n  'date_birth': '1983-10-22',\n  'profession': 'Budget/Accounting Analyst I',\n  'fav_color': 'White',\n  'scores': [4.54, 0.34, 1.41]},\n {'code': '',\n  'gender': 'Male',\n  'date_birth': '1999-12-13',\n  'profession': 'Systems Administrator I',\n  'fav_color': 'Red',\n  'scores': [1.35, 3.3, 4.41]},\n {'code': 'WY-1u0g7e3t',\n  'gender': 'Male',\n  'date_birth': '1965-06-26',\n  'profession': 'Internal Auditor',\n  'fav_color': 'White',\n  'scores': [2.66, 2.06, 1.82]},\n {'code': 'SA-8a6q0h7e',\n  'gender': 'Female',\n  'date_birth': '1977-12-07',\n  'profession': 'Social Worker',\n  'fav_color': 'Blue',\n  'scores': [4.99, 2.76, 3.52]},\n {'code': 'AF-1p3e1y0p',\n  'gender': 'Male',\n  'date_birth': '1987-12-07',\n  'profession': 'Tax Accountant',\n  'fav_color': 'Blue',\n  'scores': [0.75, 1.68, 3.56]},\n {'code': 'LB-7u8k3w1k',\n  'gender': 'Female',\n  'date_birth': '1995-01-08',\n  'profession': 'Design Engineer',\n  'fav_color': 'White',\n  'scores': [4.62, 1.48, 1.98]},\n {'code': 'GT-3p1k9u3x',\n  'gender': 'Female',\n  'date_birth': '1963-12-11',\n  'profession': 'Structural Engineer',\n  'fav_color': 'Blue',\n  'scores': [0.35, 2.18, 3.85]},\n {'code': 'HS-3q1i9o1g',\n  'gender': 'Male',\n  'date_birth': '1960-02-17',\n  'profession': 'Geological Engineer',\n  'fav_color': 'Red',\n  'scores': [0.69, 3.98, 2.73]},\n {'code': 'HD-8t6b6n1w',\n  'gender': 'Female',\n  'date_birth': '1963-10-12',\n  'profession': 'Desktop Support Technician',\n  'fav_color': 'Blue',\n  'scores': [1.6, 3.01, 4.0]},\n {'code': 'CB-22',\n  'gender': 'Male',\n  'date_birth': '1990-02-05',\n  'profession': 'Editor',\n  'fav_color': 'Blue',\n  'scores': [2.69, 0.99, 4.34]},\n {'code': 'OY-7t4q0g0v',\n  'gender': 'Male',\n  'date_birth': '1974-09-21',\n  'profession': 'Food Chemist',\n  'fav_color': 'Red',\n  'scores': [1.61, 4.7, 2.67]},\n {'code': 'LW-8k3p8a9n',\n  'gender': 'Female',\n  'date_birth': '1975-04-16',\n  'profession': 'Product Engineer',\n  'fav_color': 'White',\n  'scores': [2.83, 4.87, 3.3]},\n {'code': 'ZS-8i1u3e4w',\n  'gender': 'Female',\n  'date_birth': '1955-12-04',\n  'profession': 'Programmer Analyst II',\n  'fav_color': 'Blue',\n  'scores': [3.33, 1.1, 1.18]},\n {'code': 'KN-5x6g9p3v',\n  'gender': 'Male',\n  'date_birth': '2006-04-24',\n  'profession': 'Geologist III',\n  'fav_color': 'Blue',\n  'scores': [2.59, 0.42, 2.84]},\n {'code': '99245',\n  'gender': 'Female',\n  'date_birth': '1997-06-26',\n  'profession': 'Editor',\n  'fav_color': 'Blue',\n  'scores': [1.79, 1.15, 2.28]},\n {'code': 'MO-2z6z8w1e',\n  'gender': 'Male',\n  'date_birth': '1992-01-15',\n  'profession': 'Software Engineer III',\n  'fav_color': 'Red',\n  'scores': [0.84, 1.2, 2.84]},\n {'code': 'RI-5w8c1m9u',\n  'gender': 'Female',\n  'date_birth': '1950-12-07',\n  'profession': 'Tax Accountant',\n  'fav_color': 'Red',\n  'scores': [3.92, 2.88]}]"
     },
     "execution_count": 166,
     "metadata": {},
     "output_type": "execute_result"
    }
   ],
   "source": [
    "file = open(path, \"r\")\n",
    "\n",
    "data = json.loads(file.read())\n",
    "\n",
    "data"
   ],
   "metadata": {
    "collapsed": false,
    "pycharm": {
     "name": "#%%\n"
    }
   }
  },
  {
   "cell_type": "markdown",
   "source": [
    "## Veryfying the age"
   ],
   "metadata": {
    "collapsed": false,
    "pycharm": {
     "name": "#%% md\n"
    }
   }
  },
  {
   "cell_type": "code",
   "execution_count": 167,
   "outputs": [
    {
     "name": "stdout",
     "output_type": "stream",
     "text": [
      "11\n",
      " User with the code: HI-5o9v8s6x has been removed from the database due to not fullfilling age restricions (participant's age: 72')\n",
      "25\n",
      " User with the code: KN-5x6g9p3v has been removed from the database due to not fullfilling age restricions (participant's age: 16')\n",
      "27\n",
      " User with the code: RI-5w8c1m9u has been removed from the database due to not fullfilling age restricions (participant's age: 72')\n"
     ]
    },
    {
     "data": {
      "text/plain": "[{'code': 'BP-2t1e9j5b',\n  'gender': 'Polygender',\n  'date_birth': '1989-02-01',\n  'profession': 'Environmental Tech',\n  'fav_color': 'Red',\n  'scores': [1.54, 3.49, 4.9]},\n {'code': 'GJ-9y9h9w8l',\n  'gender': 'Female',\n  'date_birth': '1959-05-02',\n  'profession': 'Quality Control Specialist',\n  'fav_color': 'Blue',\n  'scores': [3.21, 0.28, 0.92]},\n {'code': 'HF-4y5k6a8a',\n  'gender': 'Male',\n  'date_birth': '1961-01-22',\n  'profession': 'Quality Control Specialist',\n  'fav_color': 'Red',\n  'scores': [3.96, 0.67, 2.11]},\n {'code': 'AP-1d6u3j6b',\n  'gender': 'Male',\n  'date_birth': '1996-09-27',\n  'profession': 'Environmental Tech',\n  'fav_color': 'White',\n  'scores': [3.41, 4.05]},\n {'code': 'WU-1e3d7w7j',\n  'gender': 'Female',\n  'date_birth': '2002-10-28',\n  'profession': 'Marketing Manager',\n  'fav_color': 'Blue',\n  'scores': [3.02, 4.54, 4.77]},\n {'code': 'DM-6g3w0e4z',\n  'gender': 'Male',\n  'date_birth': '1974-05-11',\n  'profession': 'Staff Scientist',\n  'fav_color': 'Blue',\n  'scores': [3.31, 1.32, 2.72]},\n {'code': 'ZM-4y2x2u7k',\n  'gender': 'Female',\n  'date_birth': '1985-10-19',\n  'profession': 'Legal Assistant',\n  'fav_color': 'Blue',\n  'scores': [0.21, 1.57]},\n {'code': 'DT-9i2x6z1p',\n  'gender': 'Female',\n  'date_birth': '1985-12-25',\n  'profession': 'Quality Engineer',\n  'fav_color': 'White',\n  'scores': [3.18]},\n {'code': 'GE-1l4f5j7h',\n  'gender': 'Male',\n  'date_birth': '1977-05-11',\n  'profession': 'Senior Financial Analyst',\n  'fav_color': 'Red',\n  'scores': [0.68, 3.97, 3.85]},\n {'code': 'za2u3m2f8g',\n  'gender': 'Male',\n  'date_birth': '1984-07-23',\n  'profession': 'Sales Associate',\n  'fav_color': 'White',\n  'scores': [0.4, 2.47, 0.19]},\n {'code': 'BU-4x8n2b1t',\n  'gender': 'Genderfluid',\n  'date_birth': '1969-04-13',\n  'profession': 'General Manager',\n  'fav_color': 'White',\n  'scores': [1.57, 4.54, 2.14]},\n {'code': 'NF-3w7c5n3x',\n  'gender': 'Male',\n  'date_birth': '1975-03-08',\n  'profession': 'Account Executive',\n  'fav_color': 'Blue',\n  'scores': [0.91, 1.23, 3.09]},\n {'code': 'TR-9z3v5h8a',\n  'gender': 'Male',\n  'date_birth': '1983-10-22',\n  'profession': 'Budget/Accounting Analyst I',\n  'fav_color': 'White',\n  'scores': [4.54, 0.34, 1.41]},\n {'code': '',\n  'gender': 'Male',\n  'date_birth': '1999-12-13',\n  'profession': 'Systems Administrator I',\n  'fav_color': 'Red',\n  'scores': [1.35, 3.3, 4.41]},\n {'code': 'WY-1u0g7e3t',\n  'gender': 'Male',\n  'date_birth': '1965-06-26',\n  'profession': 'Internal Auditor',\n  'fav_color': 'White',\n  'scores': [2.66, 2.06, 1.82]},\n {'code': 'SA-8a6q0h7e',\n  'gender': 'Female',\n  'date_birth': '1977-12-07',\n  'profession': 'Social Worker',\n  'fav_color': 'Blue',\n  'scores': [4.99, 2.76, 3.52]},\n {'code': 'AF-1p3e1y0p',\n  'gender': 'Male',\n  'date_birth': '1987-12-07',\n  'profession': 'Tax Accountant',\n  'fav_color': 'Blue',\n  'scores': [0.75, 1.68, 3.56]},\n {'code': 'LB-7u8k3w1k',\n  'gender': 'Female',\n  'date_birth': '1995-01-08',\n  'profession': 'Design Engineer',\n  'fav_color': 'White',\n  'scores': [4.62, 1.48, 1.98]},\n {'code': 'GT-3p1k9u3x',\n  'gender': 'Female',\n  'date_birth': '1963-12-11',\n  'profession': 'Structural Engineer',\n  'fav_color': 'Blue',\n  'scores': [0.35, 2.18, 3.85]},\n {'code': 'HS-3q1i9o1g',\n  'gender': 'Male',\n  'date_birth': '1960-02-17',\n  'profession': 'Geological Engineer',\n  'fav_color': 'Red',\n  'scores': [0.69, 3.98, 2.73]},\n {'code': 'HD-8t6b6n1w',\n  'gender': 'Female',\n  'date_birth': '1963-10-12',\n  'profession': 'Desktop Support Technician',\n  'fav_color': 'Blue',\n  'scores': [1.6, 3.01, 4.0]},\n {'code': 'CB-22',\n  'gender': 'Male',\n  'date_birth': '1990-02-05',\n  'profession': 'Editor',\n  'fav_color': 'Blue',\n  'scores': [2.69, 0.99, 4.34]},\n {'code': 'OY-7t4q0g0v',\n  'gender': 'Male',\n  'date_birth': '1974-09-21',\n  'profession': 'Food Chemist',\n  'fav_color': 'Red',\n  'scores': [1.61, 4.7, 2.67]},\n {'code': 'LW-8k3p8a9n',\n  'gender': 'Female',\n  'date_birth': '1975-04-16',\n  'profession': 'Product Engineer',\n  'fav_color': 'White',\n  'scores': [2.83, 4.87, 3.3]},\n {'code': 'ZS-8i1u3e4w',\n  'gender': 'Female',\n  'date_birth': '1955-12-04',\n  'profession': 'Programmer Analyst II',\n  'fav_color': 'Blue',\n  'scores': [3.33, 1.1, 1.18]},\n {'code': '99245',\n  'gender': 'Female',\n  'date_birth': '1997-06-26',\n  'profession': 'Editor',\n  'fav_color': 'Blue',\n  'scores': [1.79, 1.15, 2.28]},\n {'code': 'MO-2z6z8w1e',\n  'gender': 'Male',\n  'date_birth': '1992-01-15',\n  'profession': 'Software Engineer III',\n  'fav_color': 'Red',\n  'scores': [0.84, 1.2, 2.84]}]"
     },
     "execution_count": 167,
     "metadata": {},
     "output_type": "execute_result"
    }
   ],
   "source": [
    "for elt in data:\n",
    "\n",
    "    diff = (date - datetime.datetime.strptime(elt['date_birth'], \"%Y-%m-%d\").date()).days\n",
    "\n",
    "    age_years = diff//365\n",
    "\n",
    "    if age_years < 18 or age_years > 70:\n",
    "\n",
    "        print(data.index(elt))\n",
    "\n",
    "        print(f\" User with the code: {elt['code']} has been removed from the database due to not fullfilling age restricions (participant's age: {age_years}')\")\n",
    "\n",
    "        del data[data.index(elt)]\n",
    "\n",
    "data"
   ],
   "metadata": {
    "collapsed": false,
    "pycharm": {
     "name": "#%%\n"
    }
   }
  },
  {
   "cell_type": "markdown",
   "source": [
    "## Veryfying the scores"
   ],
   "metadata": {
    "collapsed": false,
    "pycharm": {
     "name": "#%% md\n"
    }
   }
  },
  {
   "cell_type": "code",
   "execution_count": 168,
   "outputs": [
    {
     "name": "stdout",
     "output_type": "stream",
     "text": [
      " User with the code: AP-1d6u3j6b has been removed from the database due to inncorrect number of scores (number of participant's scores: 2')\n",
      " User with the code: ZM-4y2x2u7k has been removed from the database due to inncorrect number of scores (number of participant's scores: 2')\n"
     ]
    }
   ],
   "source": [
    "for elt in data:\n",
    "\n",
    "\n",
    "    if len(elt['scores']) != 3:\n",
    "\n",
    "        print(f\" User with the code: {elt['code']} has been removed from the database due to inncorrect number of scores (number of participant's scores: {len(elt['scores'])}')\")\n",
    "\n",
    "        del data[data.index(elt)]"
   ],
   "metadata": {
    "collapsed": false,
    "pycharm": {
     "name": "#%%\n"
    }
   }
  },
  {
   "cell_type": "markdown",
   "source": [
    "## Veryfying the code"
   ],
   "metadata": {
    "collapsed": false,
    "pycharm": {
     "name": "#%% md\n"
    }
   }
  },
  {
   "cell_type": "code",
   "execution_count": 169,
   "outputs": [
    {
     "name": "stdout",
     "output_type": "stream",
     "text": [
      " User with the code: za2u3m2f8g has been removed from the database due to inncorrect code (participant's code: za2u3m2f8g')\n",
      " User with the code:  has been removed from the database due to inncorrect code (participant's code: ')\n",
      " User with the code: CB-22 has been removed from the database due to inncorrect code (participant's code: CB-22')\n",
      " User with the code: 99245 has been removed from the database due to inncorrect code (participant's code: 99245')\n"
     ]
    }
   ],
   "source": [
    "for elt in data:\n",
    "\n",
    "    if not re.fullmatch('[A-Z]{2}-[a-z0-9]{8}', elt['code']):\n",
    "\n",
    "        print(f\" User with the code: {elt['code']} has been removed from the database due to inncorrect code (participant's code: {elt['code']}')\")\n",
    "\n",
    "        del data[data.index(elt)]"
   ],
   "metadata": {
    "collapsed": false,
    "pycharm": {
     "name": "#%%\n"
    }
   }
  },
  {
   "cell_type": "markdown",
   "source": [
    "## Saving cleaned database"
   ],
   "metadata": {
    "collapsed": false,
    "pycharm": {
     "name": "#%% md\n"
    }
   }
  },
  {
   "cell_type": "code",
   "execution_count": 170,
   "outputs": [],
   "source": [
    "with open(\"database_verified.json\", \"w\") as file:\n",
    "\n",
    "    json.dump(data, file, indent = 2)\n"
   ],
   "metadata": {
    "collapsed": false,
    "pycharm": {
     "name": "#%%\n"
    }
   }
  },
  {
   "cell_type": "markdown",
   "source": [
    "## Grouped by favourite colour"
   ],
   "metadata": {
    "collapsed": false,
    "pycharm": {
     "name": "#%% md\n"
    }
   }
  },
  {
   "cell_type": "code",
   "execution_count": 177,
   "outputs": [
    {
     "data": {
      "text/plain": "{'Red': ['BP-2t1e9j5b',\n  'HF-4y5k6a8a',\n  'GE-1l4f5j7h',\n  'HS-3q1i9o1g',\n  'OY-7t4q0g0v',\n  'MO-2z6z8w1e'],\n 'Blue': ['GJ-9y9h9w8l',\n  'WU-1e3d7w7j',\n  'NF-3w7c5n3x',\n  'SA-8a6q0h7e',\n  'GT-3p1k9u3x',\n  'HD-8t6b6n1w',\n  'ZS-8i1u3e4w'],\n 'White': ['DT-9i2x6z1p',\n  'BU-4x8n2b1t',\n  'TR-9z3v5h8a',\n  'LB-7u8k3w1k',\n  'LW-8k3p8a9n']}"
     },
     "execution_count": 177,
     "metadata": {},
     "output_type": "execute_result"
    }
   ],
   "source": [
    "res = {}\n",
    "\n",
    "for key, group in groupby(data, lambda x: x['fav_color']):\n",
    "\n",
    "    if key not in res.keys():\n",
    "\n",
    "        res[key] = [(list(group)[0]['code'])]\n",
    "\n",
    "    else:\n",
    "\n",
    "        res[key].append(list(group)[0]['code'])\n",
    "\n",
    "res"
   ],
   "metadata": {
    "collapsed": false,
    "pycharm": {
     "name": "#%%\n"
    }
   }
  }
 ],
 "metadata": {
  "kernelspec": {
   "display_name": "Python 3 (ipykernel)",
   "language": "python",
   "name": "python3"
  },
  "language_info": {
   "codemirror_mode": {
    "name": "ipython",
    "version": 3
   },
   "file_extension": ".py",
   "mimetype": "text/x-python",
   "name": "python",
   "nbconvert_exporter": "python",
   "pygments_lexer": "ipython3",
   "version": "3.8.13"
  }
 },
 "nbformat": 4,
 "nbformat_minor": 5
}