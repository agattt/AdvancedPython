{
 "cells": [
  {
   "cell_type": "markdown",
   "id": "135191ae",
   "metadata": {},
   "source": [
    "# Assignment 1.\n",
    "You have a database from a study, that needs some cleaning up. Your task is to write a Python script which would:\n",
    "\n",
    "* load the database from a file `database.json`\n",
    "* verify the age of participants. The inclusion criteria to the study assume that participants are between 18 and 70 years of age. If the user is too young or too old, he/she should be removed from the database\n",
    "* verify completeness of data. Every participant should have `scores` from three measurements. In case there is not enough data the participant should be removed from the database \n",
    "* verify the code of a participant. The code should follow the pattern: 2 upper letters - 8 alphanumeric characters (lowercase), e.g. AB-ab012k3y (use RegEx!). If the code does not match the pattern, a new random code should be generated for this participant\n",
    "* save the verified and cleaned database to a new JSON file\n",
    "* create a dictionary of grouped participants based on their favourite color; use `groupby` form `itertools`; the values of a dictionary should include only participants' codes. Do not save it to a file. Just display its content.\n",
    "\n"
   ]
  },
  {
   "cell_type": "code",
   "execution_count": 229,
   "outputs": [],
   "source": [
    "#Setting up the environment\n",
    "\n",
    "import json\n",
    "import datetime\n",
    "import re\n",
    "import exrex\n",
    "from itertools import groupby\n",
    "\n",
    "path = \"database.json\"\n",
    "date = datetime.date.today()"
   ],
   "metadata": {
    "collapsed": false,
    "pycharm": {
     "name": "#%%\n"
    }
   }
  },
  {
   "cell_type": "markdown",
   "source": [
    "## Loading the data"
   ],
   "metadata": {
    "collapsed": false,
    "pycharm": {
     "name": "#%% md\n"
    }
   }
  },
  {
   "cell_type": "code",
   "execution_count": 230,
   "outputs": [
    {
     "data": {
      "text/plain": "[{'code': 'BP-2t1e9j5b',\n  'gender': 'Polygender',\n  'date_birth': '1989-02-01',\n  'profession': 'Environmental Tech',\n  'fav_color': 'Red',\n  'scores': [1.54, 3.49, 4.9]},\n {'code': 'GJ-9y9h9w8l',\n  'gender': 'Female',\n  'date_birth': '1959-05-02',\n  'profession': 'Quality Control Specialist',\n  'fav_color': 'Blue',\n  'scores': [3.21, 0.28, 0.92]},\n {'code': 'HF-4y5k6a8a',\n  'gender': 'Male',\n  'date_birth': '1961-01-22',\n  'profession': 'Quality Control Specialist',\n  'fav_color': 'Red',\n  'scores': [3.96, 0.67, 2.11]},\n {'code': 'AP-1d6u3j6b',\n  'gender': 'Male',\n  'date_birth': '1996-09-27',\n  'profession': 'Environmental Tech',\n  'fav_color': 'White',\n  'scores': [3.41, 4.05]},\n {'code': 'WU-1e3d7w7j',\n  'gender': 'Female',\n  'date_birth': '2002-10-28',\n  'profession': 'Marketing Manager',\n  'fav_color': 'Blue',\n  'scores': [3.02, 4.54, 4.77]},\n {'code': 'DM-6g3w0e4z',\n  'gender': 'Male',\n  'date_birth': '1974-05-11',\n  'profession': 'Staff Scientist',\n  'fav_color': 'Blue',\n  'scores': [3.31, 1.32, 2.72]},\n {'code': 'ZM-4y2x2u7k',\n  'gender': 'Female',\n  'date_birth': '1985-10-19',\n  'profession': 'Legal Assistant',\n  'fav_color': 'Blue',\n  'scores': [0.21, 1.57]},\n {'code': 'DT-9i2x6z1p',\n  'gender': 'Female',\n  'date_birth': '1985-12-25',\n  'profession': 'Quality Engineer',\n  'fav_color': 'White',\n  'scores': [3.18]},\n {'code': 'GE-1l4f5j7h',\n  'gender': 'Male',\n  'date_birth': '1977-05-11',\n  'profession': 'Senior Financial Analyst',\n  'fav_color': 'Red',\n  'scores': [0.68, 3.97, 3.85]},\n {'code': 'za2u3m2f8g',\n  'gender': 'Male',\n  'date_birth': '1984-07-23',\n  'profession': 'Sales Associate',\n  'fav_color': 'White',\n  'scores': [0.4, 2.47, 0.19]},\n {'code': 'BU-4x8n2b1t',\n  'gender': 'Genderfluid',\n  'date_birth': '1969-04-13',\n  'profession': 'General Manager',\n  'fav_color': 'White',\n  'scores': [1.57, 4.54, 2.14]},\n {'code': 'HI-5o9v8s6x',\n  'gender': 'Female',\n  'date_birth': '1950-06-19',\n  'profession': 'Geologist I',\n  'fav_color': 'Red',\n  'scores': [2.77, 3.22, 2.91]},\n {'code': 'NF-3w7c5n3x',\n  'gender': 'Male',\n  'date_birth': '1975-03-08',\n  'profession': 'Account Executive',\n  'fav_color': 'Blue',\n  'scores': [0.91, 1.23, 3.09]},\n {'code': 'TR-9z3v5h8a',\n  'gender': 'Male',\n  'date_birth': '1983-10-22',\n  'profession': 'Budget/Accounting Analyst I',\n  'fav_color': 'White',\n  'scores': [4.54, 0.34, 1.41]},\n {'code': '',\n  'gender': 'Male',\n  'date_birth': '1999-12-13',\n  'profession': 'Systems Administrator I',\n  'fav_color': 'Red',\n  'scores': [1.35, 3.3, 4.41]},\n {'code': 'WY-1u0g7e3t',\n  'gender': 'Male',\n  'date_birth': '1965-06-26',\n  'profession': 'Internal Auditor',\n  'fav_color': 'White',\n  'scores': [2.66, 2.06, 1.82]},\n {'code': 'SA-8a6q0h7e',\n  'gender': 'Female',\n  'date_birth': '1977-12-07',\n  'profession': 'Social Worker',\n  'fav_color': 'Blue',\n  'scores': [4.99, 2.76, 3.52]},\n {'code': 'AF-1p3e1y0p',\n  'gender': 'Male',\n  'date_birth': '1987-12-07',\n  'profession': 'Tax Accountant',\n  'fav_color': 'Blue',\n  'scores': [0.75, 1.68, 3.56]},\n {'code': 'LB-7u8k3w1k',\n  'gender': 'Female',\n  'date_birth': '1995-01-08',\n  'profession': 'Design Engineer',\n  'fav_color': 'White',\n  'scores': [4.62, 1.48, 1.98]},\n {'code': 'GT-3p1k9u3x',\n  'gender': 'Female',\n  'date_birth': '1963-12-11',\n  'profession': 'Structural Engineer',\n  'fav_color': 'Blue',\n  'scores': [0.35, 2.18, 3.85]},\n {'code': 'HS-3q1i9o1g',\n  'gender': 'Male',\n  'date_birth': '1960-02-17',\n  'profession': 'Geological Engineer',\n  'fav_color': 'Red',\n  'scores': [0.69, 3.98, 2.73]},\n {'code': 'HD-8t6b6n1w',\n  'gender': 'Female',\n  'date_birth': '1963-10-12',\n  'profession': 'Desktop Support Technician',\n  'fav_color': 'Blue',\n  'scores': [1.6, 3.01, 4.0]},\n {'code': 'CB-22',\n  'gender': 'Male',\n  'date_birth': '1990-02-05',\n  'profession': 'Editor',\n  'fav_color': 'Blue',\n  'scores': [2.69, 0.99, 4.34]},\n {'code': 'OY-7t4q0g0v',\n  'gender': 'Male',\n  'date_birth': '1974-09-21',\n  'profession': 'Food Chemist',\n  'fav_color': 'Red',\n  'scores': [1.61, 4.7, 2.67]},\n {'code': 'LW-8k3p8a9n',\n  'gender': 'Female',\n  'date_birth': '1975-04-16',\n  'profession': 'Product Engineer',\n  'fav_color': 'White',\n  'scores': [2.83, 4.87, 3.3]},\n {'code': 'ZS-8i1u3e4w',\n  'gender': 'Female',\n  'date_birth': '1955-12-04',\n  'profession': 'Programmer Analyst II',\n  'fav_color': 'Blue',\n  'scores': [3.33, 1.1, 1.18]},\n {'code': 'KN-5x6g9p3v',\n  'gender': 'Male',\n  'date_birth': '2006-04-24',\n  'profession': 'Geologist III',\n  'fav_color': 'Blue',\n  'scores': [2.59, 0.42, 2.84]},\n {'code': '99245',\n  'gender': 'Female',\n  'date_birth': '1997-06-26',\n  'profession': 'Editor',\n  'fav_color': 'Blue',\n  'scores': [1.79, 1.15, 2.28]},\n {'code': 'MO-2z6z8w1e',\n  'gender': 'Male',\n  'date_birth': '1992-01-15',\n  'profession': 'Software Engineer III',\n  'fav_color': 'Red',\n  'scores': [0.84, 1.2, 2.84]},\n {'code': 'RI-5w8c1m9u',\n  'gender': 'Female',\n  'date_birth': '1950-12-07',\n  'profession': 'Tax Accountant',\n  'fav_color': 'Red',\n  'scores': [3.92, 2.88]}]"
     },
     "execution_count": 230,
     "metadata": {},
     "output_type": "execute_result"
    }
   ],
   "source": [
    "file = open(path, \"r\")\n",
    "\n",
    "data = json.loads(file.read())\n",
    "\n",
    "data"
   ],
   "metadata": {
    "collapsed": false,
    "pycharm": {
     "name": "#%%\n"
    }
   }
  },
  {
   "cell_type": "markdown",
   "source": [
    "## Veryfying the age"
   ],
   "metadata": {
    "collapsed": false,
    "pycharm": {
     "name": "#%% md\n"
    }
   }
  },
  {
   "cell_type": "code",
   "execution_count": 231,
   "outputs": [
    {
     "name": "stdout",
     "output_type": "stream",
     "text": [
      " User with the code: HI-5o9v8s6x has been removed from the database due to not fullfilling age restricions (participant's age: 72)\n",
      " User with the code: KN-5x6g9p3v has been removed from the database due to not fullfilling age restricions (participant's age: 16)\n",
      " User with the code: RI-5w8c1m9u has been removed from the database due to not fullfilling age restricions (participant's age: 72)\n"
     ]
    }
   ],
   "source": [
    "def age_verification(data):\n",
    "\n",
    "    \"\"\"\n",
    "    Verify if every participant's age is above 18 and below 70. If the requirement is not fulfilled the entry is deleted.\n",
    "    :param data: database (list of dictionaries)\n",
    "    :return: modifies existing database\n",
    "    \"\"\"\n",
    "\n",
    "    for elt in data:\n",
    "\n",
    "        diff = (date - datetime.datetime.strptime(elt['date_birth'], \"%Y-%m-%d\").date()).days\n",
    "\n",
    "        age_years = diff//365\n",
    "\n",
    "        if age_years < 18 or age_years > 70:\n",
    "\n",
    "            print(f\" User with the code: {elt['code']} has been removed from the database due to not fullfilling age restricions (participant's age: {age_years})\")\n",
    "\n",
    "            del data[data.index(elt)]\n",
    "\n",
    "age_verification(data)"
   ],
   "metadata": {
    "collapsed": false,
    "pycharm": {
     "name": "#%%\n"
    }
   }
  },
  {
   "cell_type": "markdown",
   "source": [
    "## Veryfying the scores"
   ],
   "metadata": {
    "collapsed": false,
    "pycharm": {
     "name": "#%% md\n"
    }
   }
  },
  {
   "cell_type": "code",
   "execution_count": 232,
   "outputs": [
    {
     "name": "stdout",
     "output_type": "stream",
     "text": [
      " User with the code: AP-1d6u3j6b has been removed from the database due to inncorrect number of scores (number of participant's scores: 2)\n",
      " User with the code: ZM-4y2x2u7k has been removed from the database due to inncorrect number of scores (number of participant's scores: 2)\n"
     ]
    }
   ],
   "source": [
    "def score_verification(data):\n",
    "\n",
    "    \"\"\"\n",
    "    Verify if every participant has 3 scores. If the requirement is not fulfilled the entry is deleted.\n",
    "    :param data: database (list of dictionaries)\n",
    "    :return: modifies existing database\n",
    "    \"\"\"\n",
    "\n",
    "    for elt in data:\n",
    "\n",
    "        if len(elt['scores']) != 3:\n",
    "\n",
    "            print(f\" User with the code: {elt['code']} has been removed from the database due to inncorrect number of scores (number of participant's scores: {len(elt['scores'])})\")\n",
    "\n",
    "            del data[data.index(elt)]\n",
    "\n",
    "score_verification(data)"
   ],
   "metadata": {
    "collapsed": false,
    "pycharm": {
     "name": "#%%\n"
    }
   }
  },
  {
   "cell_type": "markdown",
   "source": [
    "## Veryfying the code"
   ],
   "metadata": {
    "collapsed": false,
    "pycharm": {
     "name": "#%% md\n"
    }
   }
  },
  {
   "cell_type": "code",
   "execution_count": 233,
   "outputs": [
    {
     "name": "stdout",
     "output_type": "stream",
     "text": [
      " User with the code: za2u3m2f8g has incorrect code. New code has been assigned to the participant: JU-exs9ol70\n",
      " User with the code:  has incorrect code. New code has been assigned to the participant: DV-u1b9bnr3\n",
      " User with the code: CB-22 has incorrect code. New code has been assigned to the participant: WD-udon3qos\n",
      " User with the code: 99245 has incorrect code. New code has been assigned to the participant: WB-wfeedqzr\n"
     ]
    }
   ],
   "source": [
    "def code_verification(data):\n",
    "\n",
    "    \"\"\"\n",
    "    Verify if every participant is assigned an appropriate code: 2 upper letters - 8 alphanumeric characters (lowercase).\n",
    "    If not, new code is generated and assigned to a participant with an incorrect code.\n",
    "    :param data: database (list of dictionaries)\n",
    "    :return: modifies existing database\n",
    "    \"\"\"\n",
    "\n",
    "    for elt in data:\n",
    "\n",
    "        if not re.fullmatch('[A-Z]{2}-[a-z0-9]{8}', elt['code']):\n",
    "\n",
    "            new_code = exrex.getone('[A-Z]{2}-[a-z0-9]{8}')\n",
    "\n",
    "            while not code_not_used(data, new_code):\n",
    "\n",
    "                new_code = exrex.getone('[A-Z]{2}-[a-z0-9]{8}')\n",
    "\n",
    "            print(f\" User with the code: {elt['code']} has incorrect code. New code has been assigned to the participant: {new_code}\")\n",
    "\n",
    "            data[data.index(elt)]['code'] = new_code\n",
    "\n",
    "\n",
    "def code_not_used(data, code):\n",
    "\n",
    "    \"\"\"\n",
    "    Check whether given code already exists in the database\n",
    "    :param data: database (list of dictionaries)\n",
    "    :param code: generated code to be assigned to a participant\n",
    "    :return: True if code is not assigned to any participant, False otherwise\n",
    "    \"\"\"\n",
    "\n",
    "    for elt in data:\n",
    "\n",
    "        if elt['code'] == code:\n",
    "\n",
    "            return False\n",
    "\n",
    "    return True\n",
    "\n",
    "code_verification(data)"
   ],
   "metadata": {
    "collapsed": false,
    "pycharm": {
     "name": "#%%\n"
    }
   }
  },
  {
   "cell_type": "markdown",
   "source": [
    "## Saving cleaned database"
   ],
   "metadata": {
    "collapsed": false,
    "pycharm": {
     "name": "#%% md\n"
    }
   }
  },
  {
   "cell_type": "code",
   "execution_count": 234,
   "outputs": [
    {
     "data": {
      "text/plain": "[{'code': 'BP-2t1e9j5b',\n  'gender': 'Polygender',\n  'date_birth': '1989-02-01',\n  'profession': 'Environmental Tech',\n  'fav_color': 'Red',\n  'scores': [1.54, 3.49, 4.9]},\n {'code': 'GJ-9y9h9w8l',\n  'gender': 'Female',\n  'date_birth': '1959-05-02',\n  'profession': 'Quality Control Specialist',\n  'fav_color': 'Blue',\n  'scores': [3.21, 0.28, 0.92]},\n {'code': 'HF-4y5k6a8a',\n  'gender': 'Male',\n  'date_birth': '1961-01-22',\n  'profession': 'Quality Control Specialist',\n  'fav_color': 'Red',\n  'scores': [3.96, 0.67, 2.11]},\n {'code': 'WU-1e3d7w7j',\n  'gender': 'Female',\n  'date_birth': '2002-10-28',\n  'profession': 'Marketing Manager',\n  'fav_color': 'Blue',\n  'scores': [3.02, 4.54, 4.77]},\n {'code': 'DM-6g3w0e4z',\n  'gender': 'Male',\n  'date_birth': '1974-05-11',\n  'profession': 'Staff Scientist',\n  'fav_color': 'Blue',\n  'scores': [3.31, 1.32, 2.72]},\n {'code': 'DT-9i2x6z1p',\n  'gender': 'Female',\n  'date_birth': '1985-12-25',\n  'profession': 'Quality Engineer',\n  'fav_color': 'White',\n  'scores': [3.18]},\n {'code': 'GE-1l4f5j7h',\n  'gender': 'Male',\n  'date_birth': '1977-05-11',\n  'profession': 'Senior Financial Analyst',\n  'fav_color': 'Red',\n  'scores': [0.68, 3.97, 3.85]},\n {'code': 'JU-exs9ol70',\n  'gender': 'Male',\n  'date_birth': '1984-07-23',\n  'profession': 'Sales Associate',\n  'fav_color': 'White',\n  'scores': [0.4, 2.47, 0.19]},\n {'code': 'BU-4x8n2b1t',\n  'gender': 'Genderfluid',\n  'date_birth': '1969-04-13',\n  'profession': 'General Manager',\n  'fav_color': 'White',\n  'scores': [1.57, 4.54, 2.14]},\n {'code': 'NF-3w7c5n3x',\n  'gender': 'Male',\n  'date_birth': '1975-03-08',\n  'profession': 'Account Executive',\n  'fav_color': 'Blue',\n  'scores': [0.91, 1.23, 3.09]},\n {'code': 'TR-9z3v5h8a',\n  'gender': 'Male',\n  'date_birth': '1983-10-22',\n  'profession': 'Budget/Accounting Analyst I',\n  'fav_color': 'White',\n  'scores': [4.54, 0.34, 1.41]},\n {'code': 'DV-u1b9bnr3',\n  'gender': 'Male',\n  'date_birth': '1999-12-13',\n  'profession': 'Systems Administrator I',\n  'fav_color': 'Red',\n  'scores': [1.35, 3.3, 4.41]},\n {'code': 'WY-1u0g7e3t',\n  'gender': 'Male',\n  'date_birth': '1965-06-26',\n  'profession': 'Internal Auditor',\n  'fav_color': 'White',\n  'scores': [2.66, 2.06, 1.82]},\n {'code': 'SA-8a6q0h7e',\n  'gender': 'Female',\n  'date_birth': '1977-12-07',\n  'profession': 'Social Worker',\n  'fav_color': 'Blue',\n  'scores': [4.99, 2.76, 3.52]},\n {'code': 'AF-1p3e1y0p',\n  'gender': 'Male',\n  'date_birth': '1987-12-07',\n  'profession': 'Tax Accountant',\n  'fav_color': 'Blue',\n  'scores': [0.75, 1.68, 3.56]},\n {'code': 'LB-7u8k3w1k',\n  'gender': 'Female',\n  'date_birth': '1995-01-08',\n  'profession': 'Design Engineer',\n  'fav_color': 'White',\n  'scores': [4.62, 1.48, 1.98]},\n {'code': 'GT-3p1k9u3x',\n  'gender': 'Female',\n  'date_birth': '1963-12-11',\n  'profession': 'Structural Engineer',\n  'fav_color': 'Blue',\n  'scores': [0.35, 2.18, 3.85]},\n {'code': 'HS-3q1i9o1g',\n  'gender': 'Male',\n  'date_birth': '1960-02-17',\n  'profession': 'Geological Engineer',\n  'fav_color': 'Red',\n  'scores': [0.69, 3.98, 2.73]},\n {'code': 'HD-8t6b6n1w',\n  'gender': 'Female',\n  'date_birth': '1963-10-12',\n  'profession': 'Desktop Support Technician',\n  'fav_color': 'Blue',\n  'scores': [1.6, 3.01, 4.0]},\n {'code': 'WD-udon3qos',\n  'gender': 'Male',\n  'date_birth': '1990-02-05',\n  'profession': 'Editor',\n  'fav_color': 'Blue',\n  'scores': [2.69, 0.99, 4.34]},\n {'code': 'OY-7t4q0g0v',\n  'gender': 'Male',\n  'date_birth': '1974-09-21',\n  'profession': 'Food Chemist',\n  'fav_color': 'Red',\n  'scores': [1.61, 4.7, 2.67]},\n {'code': 'LW-8k3p8a9n',\n  'gender': 'Female',\n  'date_birth': '1975-04-16',\n  'profession': 'Product Engineer',\n  'fav_color': 'White',\n  'scores': [2.83, 4.87, 3.3]},\n {'code': 'ZS-8i1u3e4w',\n  'gender': 'Female',\n  'date_birth': '1955-12-04',\n  'profession': 'Programmer Analyst II',\n  'fav_color': 'Blue',\n  'scores': [3.33, 1.1, 1.18]},\n {'code': 'WB-wfeedqzr',\n  'gender': 'Female',\n  'date_birth': '1997-06-26',\n  'profession': 'Editor',\n  'fav_color': 'Blue',\n  'scores': [1.79, 1.15, 2.28]},\n {'code': 'MO-2z6z8w1e',\n  'gender': 'Male',\n  'date_birth': '1992-01-15',\n  'profession': 'Software Engineer III',\n  'fav_color': 'Red',\n  'scores': [0.84, 1.2, 2.84]}]"
     },
     "execution_count": 234,
     "metadata": {},
     "output_type": "execute_result"
    }
   ],
   "source": [
    "def save(file_name, data):\n",
    "\n",
    "    \"\"\"\n",
    "    Save database to a file of a given name\n",
    "    :param file_name: name of a file without file extension\n",
    "    :param data: database (list of dictionaries)\n",
    "    :return: creates new file with saved database\n",
    "    \"\"\"\n",
    "\n",
    "    with open(file_name + \".json\", \"w\") as file:\n",
    "\n",
    "        json.dump(data, file, indent = 2)\n",
    "\n",
    "save(\"database_verified\", data)\n",
    "\n",
    "data"
   ],
   "metadata": {
    "collapsed": false,
    "pycharm": {
     "name": "#%%\n"
    }
   }
  },
  {
   "cell_type": "markdown",
   "source": [
    "## Grouped by favourite colour"
   ],
   "metadata": {
    "collapsed": false,
    "pycharm": {
     "name": "#%% md\n"
    }
   }
  },
  {
   "cell_type": "code",
   "execution_count": 235,
   "outputs": [
    {
     "data": {
      "text/plain": "{'Blue': ['GJ-9y9h9w8l',\n  'WU-1e3d7w7j',\n  'DM-6g3w0e4z',\n  'NF-3w7c5n3x',\n  'SA-8a6q0h7e',\n  'AF-1p3e1y0p',\n  'GT-3p1k9u3x',\n  'HD-8t6b6n1w',\n  'WD-udon3qos',\n  'ZS-8i1u3e4w',\n  'WB-wfeedqzr'],\n 'Red': ['BP-2t1e9j5b',\n  'HF-4y5k6a8a',\n  'GE-1l4f5j7h',\n  'DV-u1b9bnr3',\n  'HS-3q1i9o1g',\n  'OY-7t4q0g0v',\n  'MO-2z6z8w1e'],\n 'White': ['DT-9i2x6z1p',\n  'JU-exs9ol70',\n  'BU-4x8n2b1t',\n  'TR-9z3v5h8a',\n  'WY-1u0g7e3t',\n  'LB-7u8k3w1k',\n  'LW-8k3p8a9n']}"
     },
     "execution_count": 235,
     "metadata": {},
     "output_type": "execute_result"
    }
   ],
   "source": [
    "def group_by_colour(data):\n",
    "\n",
    "    \"\"\"\n",
    "    Group participants by their favourite colour\n",
    "    :param data: our database (list of dictionaries)\n",
    "    :return: dictionary with favourite colours used as keys and and list of participants' codes as values\n",
    "    \"\"\"\n",
    "\n",
    "    res = {}\n",
    "\n",
    "    data_sorted = sorted(data, key=lambda participant: participant['fav_color'])\n",
    "\n",
    "    for key, group in groupby(data_sorted, lambda x: x['fav_color']):\n",
    "\n",
    "        for elt in group:\n",
    "\n",
    "            if key not in res.keys():\n",
    "\n",
    "                res[key] = [elt['code']]\n",
    "\n",
    "            else:\n",
    "\n",
    "                res[key].append(elt['code'])\n",
    "\n",
    "    return res\n",
    "\n",
    "group_by_colour(data)"
   ],
   "metadata": {
    "collapsed": false,
    "pycharm": {
     "name": "#%%\n"
    }
   }
  }
 ],
 "metadata": {
  "kernelspec": {
   "display_name": "Python 3 (ipykernel)",
   "language": "python",
   "name": "python3"
  },
  "language_info": {
   "codemirror_mode": {
    "name": "ipython",
    "version": 3
   },
   "file_extension": ".py",
   "mimetype": "text/x-python",
   "name": "python",
   "nbconvert_exporter": "python",
   "pygments_lexer": "ipython3",
   "version": "3.8.13"
  }
 },
 "nbformat": 4,
 "nbformat_minor": 5
}